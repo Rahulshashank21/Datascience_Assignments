{
 "cells": [
  {
   "cell_type": "markdown",
   "id": "9c6f99e2-a3cd-49bc-8c5a-b4909a780ffb",
   "metadata": {},
   "source": [
    "**Q1. What are the characteristics of the tuples? Is tuple immutable?**"
   ]
  },
  {
   "cell_type": "markdown",
   "id": "19cf6d3b-1239-4679-9f68-062941e4b12d",
   "metadata": {},
   "source": [
    "Tuples are ordered collections of elements.\n",
    "Tuples can contain elements of different types, including other tuples.\n",
    "Tuples are immutable, meaning their elements cannot be modified after creation.\n",
    "Tuples are defined using parentheses () or the tuple() constructor."
   ]
  },
  {
   "cell_type": "markdown",
   "id": "66073b0c-2e79-4cb5-b8dc-9b649145ab14",
   "metadata": {},
   "source": [
    "**Q2. What are the two tuple methods in python? Give an example of each method. Give a reason why\n",
    "tuples have only two in-built methods as compared to Lists.**"
   ]
  },
  {
   "cell_type": "markdown",
   "id": "7b88deba-1637-4c2c-a017-c9d2015eda93",
   "metadata": {},
   "source": [
    "count() method: Returns the number of occurrences of a specified element in the tuple."
   ]
  },
  {
   "cell_type": "code",
   "execution_count": 1,
   "id": "63d64cf7-21c6-4b4a-9bd9-af2b8ef1892f",
   "metadata": {},
   "outputs": [
    {
     "name": "stdout",
     "output_type": "stream",
     "text": [
      "3\n"
     ]
    }
   ],
   "source": [
    "my_tuple = (1, 2, 3, 2, 4, 2)\n",
    "count = my_tuple.count(2)\n",
    "print(count)  # Output: 3\n"
   ]
  },
  {
   "cell_type": "markdown",
   "id": "582c61ce-ad84-4a97-9650-89b31970d9b2",
   "metadata": {},
   "source": [
    "index() method: Returns the index of the first occurrence of a specified element in the tuple."
   ]
  },
  {
   "cell_type": "code",
   "execution_count": 2,
   "id": "a6f3ed0c-7442-45af-8398-b226d9afd68b",
   "metadata": {},
   "outputs": [
    {
     "name": "stdout",
     "output_type": "stream",
     "text": [
      "2\n"
     ]
    }
   ],
   "source": [
    "my_tuple = (1, 2, 3, 2, 4, 2)\n",
    "index = my_tuple.index(3)\n",
    "print(index)  # Output: 2\n"
   ]
  },
  {
   "cell_type": "markdown",
   "id": "120d0c2b-12d2-47b0-a7e7-759a5074f41c",
   "metadata": {},
   "source": [
    "**Q3. Which collection datatypes in python do not allow duplicate items? Write a code using a set to remove\n",
    "duplicates from the given list.\n",
    "List = [1, 1, 1, 2, 1, 3, 1, 4, 2, 1, 2, 2, 2, 3, 2, 4, 3, 1, 3, 2, 3, 3, 3, 4, 4, 1, 4, 2, 4, 3, 4, 4]**"
   ]
  },
  {
   "cell_type": "code",
   "execution_count": 3,
   "id": "20667614-92e6-4b55-a55c-8b58fd8871b6",
   "metadata": {},
   "outputs": [
    {
     "name": "stdout",
     "output_type": "stream",
     "text": [
      "List with duplicates: [1, 1, 1, 2, 1, 3, 1, 4, 2, 1, 2, 2, 2, 3, 2, 4, 3, 1, 3, 2, 3, 3, 3, 4, 4, 1, 4, 2, 4, 3, 4, 4]\n",
      "List without duplicates: [1, 2, 3, 4]\n"
     ]
    }
   ],
   "source": [
    "my_list = [1, 1, 1, 2, 1, 3, 1, 4, 2, 1, 2, 2, 2, 3, 2, 4, 3, 1, 3, 2, 3, 3, 3, 4, 4, 1, 4, 2, 4, 3, 4, 4]\n",
    "unique_items = list(set(my_list))\n",
    "\n",
    "print(\"List with duplicates:\", my_list)\n",
    "print(\"List without duplicates:\", unique_items)\n"
   ]
  },
  {
   "cell_type": "markdown",
   "id": "229bb8bf-2859-4103-ae2e-b4893e14626d",
   "metadata": {},
   "source": [
    "**Q4. Explain the difference between the union() and update() methods for a set. Give an example of\n",
    "each method.**"
   ]
  },
  {
   "cell_type": "markdown",
   "id": "30924ce5-034e-4628-9b81-ac9be65c6c65",
   "metadata": {},
   "source": [
    "union() method: Returns a new set that is the union of two or more sets. It doesn't modify the original sets.\n",
    "update() method: Updates the set with the union of itself and another set(s). It modifies the original set."
   ]
  },
  {
   "cell_type": "markdown",
   "id": "208732f8-2cf2-4998-a97f-3a6b6addad7f",
   "metadata": {},
   "source": [
    "**Q5. What is a dictionary? Give an example. Also, state whether a dictionary is ordered or unordered.**"
   ]
  },
  {
   "cell_type": "markdown",
   "id": "c59c23d4-a9ab-49f4-b3cb-d181c8d833a4",
   "metadata": {},
   "source": [
    "A dictionary is an unordered collection of key-value pairs. Each key in a dictionary is unique, and it is used to access its corresponding value. Dictionaries are defined using curly braces {} or the dict() constructor."
   ]
  },
  {
   "cell_type": "code",
   "execution_count": 4,
   "id": "8bbea1b8-8ff5-45f5-98af-5b1a3067e539",
   "metadata": {},
   "outputs": [
    {
     "name": "stdout",
     "output_type": "stream",
     "text": [
      "{'name': 'John Doe', 'age': 20, 'major': 'Computer Science', 'gpa': 3.8}\n"
     ]
    }
   ],
   "source": [
    "student = {\n",
    "    \"name\": \"John Doe\",\n",
    "    \"age\": 20,\n",
    "    \"major\": \"Computer Science\",\n",
    "    \"gpa\": 3.8\n",
    "}\n",
    "\n",
    "print(student)  # Output: {'name': 'John Doe', 'age': 20, 'major': 'Computer Science', 'gpa': 3.8}\n"
   ]
  },
  {
   "cell_type": "markdown",
   "id": "54883ad6-3498-4074-8308-91ee949e01a4",
   "metadata": {},
   "source": [
    "**Q6. Can we create a nested dictionary? If so, please give an example by creating a simple one-level\n",
    "nested dictionary.**"
   ]
  },
  {
   "cell_type": "markdown",
   "id": "f5dd7814-0563-4fba-ad93-ba01e2f0e734",
   "metadata": {},
   "source": [
    "Yes, we can create nested dictionaries in Python. A nested dictionary is a dictionary that contains one or more dictionaries as its values."
   ]
  },
  {
   "cell_type": "code",
   "execution_count": 6,
   "id": "63cbf79b-b9a4-4e7f-8a69-00d1a9003978",
   "metadata": {},
   "outputs": [
    {
     "name": "stdout",
     "output_type": "stream",
     "text": [
      "{'name': 'John Doe', 'age': 20, 'grades': {'math': 90, 'science': 85, 'english': 95}}\n"
     ]
    }
   ],
   "source": [
    "student = {\n",
    "    \"name\": \"John Doe\",\n",
    "    \"age\": 20,\n",
    "    \"grades\": {\n",
    "        \"math\": 90,\n",
    "        \"science\": 85,\n",
    "        \"english\": 95\n",
    "    }\n",
    "}\n",
    "\n",
    "print(student)  # Output: {'name': 'John Doe', 'age': 20, 'grades': {'math': 90, 'science': 85, 'english': 95}}\n"
   ]
  },
  {
   "cell_type": "markdown",
   "id": "105631c2-c05e-49c0-9cc8-03eb4d55bb39",
   "metadata": {},
   "source": [
    "**Q7. Using setdefault() method, create key named topics in the given dictionary and also add the value of\n",
    "the key as this list ['Python', 'Machine Learning’, 'Deep Learning']\n",
    "dict1 = {'language' : 'Python', 'course': 'Data Science Masters'}**"
   ]
  },
  {
   "cell_type": "code",
   "execution_count": null,
   "id": "c23ed208-042c-4b61-9593-b532585c3bf4",
   "metadata": {},
   "outputs": [],
   "source": []
  }
 ],
 "metadata": {
  "kernelspec": {
   "display_name": "Python 3 (ipykernel)",
   "language": "python",
   "name": "python3"
  },
  "language_info": {
   "codemirror_mode": {
    "name": "ipython",
    "version": 3
   },
   "file_extension": ".py",
   "mimetype": "text/x-python",
   "name": "python",
   "nbconvert_exporter": "python",
   "pygments_lexer": "ipython3",
   "version": "3.10.8"
  }
 },
 "nbformat": 4,
 "nbformat_minor": 5
}
