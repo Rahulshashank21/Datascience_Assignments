{
  "metadata": {
    "language_info": {
      "name": ""
    },
    "kernelspec": {
      "name": "python",
      "display_name": "Python (Pyodide)",
      "language": "python"
    }
  },
  "nbformat_minor": 4,
  "nbformat": 4,
  "cells": [
    {
      "cell_type": "markdown",
      "source": "Q1. Load the flight price dataset and examine its dimensions. How many rows and columns does the dataset have?\n\nA1. To load the flight price dataset, we can use pandas library in Python. Assuming the dataset is in CSV format, we can use the following code to load the dataset:",
      "metadata": {}
    },
    {
      "cell_type": "code",
      "source": "import pandas as pd\nflight_price = pd.read_csv('flight_price_dataset.csv')\nprint(flight_price.shape)\n",
      "metadata": {},
      "execution_count": null,
      "outputs": []
    },
    {
      "cell_type": "markdown",
      "source": "Q2. What is the distribution of flight prices in the dataset? Create a histogram to visualize the distribution.\n\nA2. To understand the distribution of flight prices in the dataset, we can create a histogram using the matplotlib library.",
      "metadata": {}
    },
    {
      "cell_type": "code",
      "source": "import matplotlib.pyplot as plt\n\nplt.hist(flight_price['price'], bins=50)\nplt.xlabel('Flight Price')\nplt.ylabel('Count')\nplt.show()\n",
      "metadata": {
        "trusted": true
      },
      "execution_count": null,
      "outputs": []
    },
    {
      "cell_type": "markdown",
      "source": "Q3. What is the range of prices in the dataset? What is the minimum and maximum price?\n\nA3. To find the range of prices in the dataset, we can use the min() and max() functions of the price column.",
      "metadata": {}
    },
    {
      "cell_type": "code",
      "source": "print('Minimum Price:', flight_price['price'].min())\nprint('Maximum Price:', flight_price['price'].max())\n",
      "metadata": {
        "trusted": true
      },
      "execution_count": null,
      "outputs": []
    },
    {
      "cell_type": "markdown",
      "source": "Q4. How does the price of flights vary by airline? Create a boxplot to compare the prices of different airlines.\n\nA4. To understand how the price of flights varies by airline, we can create a boxplot using the seaborn library.",
      "metadata": {}
    },
    {
      "cell_type": "code",
      "source": "import seaborn as sns\n\nsns.boxplot(x='airline', y='price', data=flight_price)\nplt.show()\n",
      "metadata": {
        "trusted": true
      },
      "execution_count": null,
      "outputs": []
    },
    {
      "cell_type": "markdown",
      "source": "Q5. Are there any outliers in the dataset? Identify any potential outliers using a boxplot and describe how they may impact your analysis.\n\nA5. To identify any potential outliers in the dataset, we can use a boxplot.\n\n\nsns.boxplot(x='price', data=flight_price)\nplt.show()\n\n\n\nThis will create a boxplot of flight prices. Outliers are any values that fall outside the whiskers of the boxplot. Outliers can impact analysis by skewing the distribution or affecting summary statistics like the mean and standard deviation.",
      "metadata": {}
    },
    {
      "cell_type": "markdown",
      "source": "Q6. You are working for a travel agency, and your boss has asked you to analyze the Flight Price dataset to identify the peak travel season. What features would you analyze to identify the peak season, and how would you present your findings to your boss?\n\nA6. To identify the peak travel season, we can analyze the date and destination features. We can group flights by month or quarter to identify the months or quarters with the highest number of flights or the highest average flight prices. We can also analyze flight prices by destination to identify any seasonal trends. We can present our findings to our boss using tables, charts or graphs to highlight the peak travel season and the reasons behind it.",
      "metadata": {}
    },
    {
      "cell_type": "markdown",
      "source": "Q7. You are a data analyst for a flight booking website, and you have been asked to analyze the Flight Price dataset to identify any trends in flight prices. What features would you analyze to identify these trends, and what visualizations would you use to present your findings to your team?\n\nA7. To identify trends in flight prices, we can analyze the date, destination, airline, and duration features. We can group flights by date or by month to identify any seasonal trends in flight prices. We can also analyze flight prices by destination to identify any price variations due to demand or supply. We can compare the prices of different airlines to identify any competitive pricing strategies. Additionally, we can analyze the relationship between the duration of flights and the prices to identify any pricing patterns based on flight duration. We can present our findings to the team using line charts, scatter plots, or heatmaps to visualize the trends in flight prices.\n\nQ8. You are a data scientist working for an airline company, and you have been asked to analyze the Flight Price dataset to identify the factors that affect flight prices. What features would you analyze to identify these factors, and how would you present your findings to the management team?\n\nA8. To identify the factors that affect flight prices, we can analyze the date, destination, airline, duration, and class features. We can analyze the relationships between these features and the flight prices using statistical methods such as regression analysis or correlation analysis. We can also use data visualization techniques such as scatter plots or heatmaps to visualize the relationships between the features and flight prices. Additionally, we can perform feature selection or feature engineering to identify the most important features that affect flight prices. We can present our findings to the management team using reports, dashboards, or presentations with clear explanations and visualizations of the factors affecting flight prices. We can also provide recommendations for pricing strategies based on our analysis.",
      "metadata": {}
    },
    {
      "cell_type": "code",
      "source": "",
      "metadata": {},
      "execution_count": null,
      "outputs": []
    },
    {
      "cell_type": "code",
      "source": "",
      "metadata": {},
      "execution_count": null,
      "outputs": []
    },
    {
      "cell_type": "code",
      "source": "",
      "metadata": {},
      "execution_count": null,
      "outputs": []
    },
    {
      "cell_type": "code",
      "source": "",
      "metadata": {},
      "execution_count": null,
      "outputs": []
    },
    {
      "cell_type": "code",
      "source": "",
      "metadata": {},
      "execution_count": null,
      "outputs": []
    },
    {
      "cell_type": "code",
      "source": "",
      "metadata": {},
      "execution_count": null,
      "outputs": []
    },
    {
      "cell_type": "code",
      "source": "",
      "metadata": {},
      "execution_count": null,
      "outputs": []
    },
    {
      "cell_type": "code",
      "source": "",
      "metadata": {},
      "execution_count": null,
      "outputs": []
    },
    {
      "cell_type": "code",
      "source": "",
      "metadata": {},
      "execution_count": null,
      "outputs": []
    },
    {
      "cell_type": "code",
      "source": "",
      "metadata": {},
      "execution_count": null,
      "outputs": []
    },
    {
      "cell_type": "code",
      "source": "",
      "metadata": {},
      "execution_count": null,
      "outputs": []
    },
    {
      "cell_type": "code",
      "source": "",
      "metadata": {},
      "execution_count": null,
      "outputs": []
    },
    {
      "cell_type": "code",
      "source": "",
      "metadata": {},
      "execution_count": null,
      "outputs": []
    },
    {
      "cell_type": "code",
      "source": "",
      "metadata": {},
      "execution_count": null,
      "outputs": []
    },
    {
      "cell_type": "code",
      "source": "",
      "metadata": {},
      "execution_count": null,
      "outputs": []
    },
    {
      "cell_type": "code",
      "source": "",
      "metadata": {},
      "execution_count": null,
      "outputs": []
    },
    {
      "cell_type": "code",
      "source": "",
      "metadata": {},
      "execution_count": null,
      "outputs": []
    },
    {
      "cell_type": "code",
      "source": "",
      "metadata": {},
      "execution_count": null,
      "outputs": []
    },
    {
      "cell_type": "code",
      "source": "",
      "metadata": {},
      "execution_count": null,
      "outputs": []
    },
    {
      "cell_type": "code",
      "source": "",
      "metadata": {},
      "execution_count": null,
      "outputs": []
    }
  ]
}