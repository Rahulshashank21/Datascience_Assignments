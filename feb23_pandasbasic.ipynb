{
 "cells": [
  {
   "cell_type": "markdown",
   "id": "d3cedcf7-7c92-438c-af79-0a264857557c",
   "metadata": {},
   "source": [
    "**Q.1> Create a Pandas Series that contains the following data: 4, 8, 15, 16, 23, and 42. Then, print the series.**"
   ]
  },
  {
   "cell_type": "code",
   "execution_count": 3,
   "id": "1f71c4d9-51f2-4dca-9c0c-5c88fd791ca1",
   "metadata": {},
   "outputs": [
    {
     "name": "stdout",
     "output_type": "stream",
     "text": [
      "    0\n",
      "0   4\n",
      "1   8\n",
      "2  15\n",
      "3  16\n",
      "4  23\n",
      "5  42\n"
     ]
    }
   ],
   "source": [
    "\n",
    "import pandas as pd \n",
    "data = [4, 8, 15, 16, 23, 42]\n",
    "df = pd.DataFrame(data)\n",
    "print(df)"
   ]
  },
  {
   "cell_type": "markdown",
   "id": "7b77a1f8-7ae5-44ec-8841-e739a7d03028",
   "metadata": {},
   "source": [
    "**Q.2> Create a variable of list type containing 10 elements in it, and apply pandas.Series function on the variable print it.**"
   ]
  },
  {
   "cell_type": "code",
   "execution_count": 4,
   "id": "d214f492-4279-4c30-ab88-639ffeba5f39",
   "metadata": {},
   "outputs": [
    {
     "name": "stdout",
     "output_type": "stream",
     "text": [
      "          0\n",
      "0   sarfraj\n",
      "1    abshar\n",
      "2  abhishek\n",
      "3    faizan\n",
      "4    hammad\n",
      "5      asif\n",
      "6   arsalan\n",
      "7      faiz\n",
      "8     nesat\n",
      "9     nemat\n"
     ]
    }
   ],
   "source": [
    "import pandas as pd \n",
    "data =  [\"sarfraj\" , \"abshar\" , \"abhishek\" , \"faizan\" , \"hammad\" , \"asif\" , \"arsalan\" , \"faiz\" , \"nesat\" ,\"nemat\"]\n",
    "df = pd.DataFrame(data)\n",
    "print(df)"
   ]
  },
  {
   "cell_type": "markdown",
   "id": "18b7cb77-360b-4d2b-bf06-a44e1fa8047d",
   "metadata": {},
   "source": [
    "**Q.3> Create a Pandas DataFrame that contains the following data:Then, print the DataFrame.**"
   ]
  },
  {
   "cell_type": "code",
   "execution_count": 5,
   "id": "275f893b-3dab-4586-8d90-b84ab439e093",
   "metadata": {},
   "outputs": [
    {
     "name": "stdout",
     "output_type": "stream",
     "text": [
      "     Name  Age  Gender\n",
      "0   Alice   25  Female\n",
      "1     Bob   30    Male\n",
      "2  Claire   27  Female\n"
     ]
    }
   ],
   "source": [
    "import pandas as pd \n",
    "data = {'Name': ['Alice' ,  'Bob' ,  'Claire'],\n",
    "\n",
    "        'Age': [25, 30, 27],\n",
    "\n",
    "        'Gender': ['Female', 'Male', 'Female']}\n",
    "df = pd.DataFrame(data)\n",
    "print(df)"
   ]
  },
  {
   "cell_type": "markdown",
   "id": "9039b17d-6aa9-464c-8cb1-86bb3316dcc0",
   "metadata": {},
   "source": [
    "**Q.4> What is ‘DataFrame’ in pandas and how is it different from pandas.series? Explain with an example.**"
   ]
  },
  {
   "cell_type": "code",
   "execution_count": 14,
   "id": "ee16b8c8-8960-4476-a8a7-782f796e491a",
   "metadata": {},
   "outputs": [
    {
     "name": "stdout",
     "output_type": "stream",
     "text": [
      "      Name  Age  Gender\n",
      "0    Alice   25  Female\n",
      "1      Bob   30    Male\n",
      "2  Charlie   35    Male\n"
     ]
    }
   ],
   "source": [
    "'''>  In Pandas, a DataFrame is a two-dimensional labeled data structure with columns of potentially \n",
    "         different data types. It is similar to a spreadsheet  or a  SQL table. In a DataFrame , data is \n",
    "         organized in rows and columns, where each column can be considered as a Pandas Series.\n",
    "\n",
    "         On the other hand, a Series in Pandas is a one-dimensional labeled array that can contain data of any \n",
    "         data type, including integers, strings, and floating-point numbers. It is similar to a column in a \n",
    "         spreadsheet or a SQL table.\n",
    "\n",
    "         The main difference between a DataFrame and a Series is that a DataFrame is a two-dimensional data \n",
    "         structure with rows and columns, while a Series is a one-dimensional data structure with only one column.\n",
    "         Here's an example to illustrate the difference between a DataFrame and a Series:\n",
    "\n",
    "         Suppose we have the following data:\n",
    "         Name(Alice , Bob, Charlie) , Age(25, 3, 35) , Gender (Female,Male ,Male)\n",
    "         We can represent this data using a DataFrame in Pandas as follows:'''\n",
    "import pandas as pd\n",
    "\n",
    "data = {'Name': ['Alice', 'Bob', 'Charlie'],\n",
    "        'Age': [25, 30, 35],\n",
    "        'Gender': ['Female', 'Male', 'Male']}\n",
    "\n",
    "df = pd.DataFrame(data)\n",
    "\n",
    "print(df)\n"
   ]
  },
  {
   "cell_type": "markdown",
   "id": "abf69b50-8d1f-4678-8ba9-a0e65d48b095",
   "metadata": {},
   "source": [
    "**Q.5> What are some common functions you can use to manipulate data in a Pandas DataFrame? Can you give an example of when you might use one of these functions?**\n"
   ]
  },
  {
   "cell_type": "code",
   "execution_count": null,
   "id": "59f0fd67-4a0c-47e7-a58c-16a5094fed65",
   "metadata": {},
   "outputs": [],
   "source": [
    "\n",
    "    # 1. head() and tail(): These functions are used to view the first and last n rows of a DataFrame, \n",
    "    #    respectively. They can be useful for quickly getting a sense of what the data looks like.\n",
    "     #   Example:\n",
    "import pandas as pd\n",
    "\n",
    "df = pd.read_csv('data.csv')\n",
    "\n",
    "# View the first 5 rows\n",
    "print(df.head())\n",
    "\n",
    "# View the last 5 rows\n",
    "print(df.tail())\n",
    "    \n",
    "   # 2. describe(): This function provides a statistical summary of the DataFrame, including the count, \n",
    "    #    mean, standard deviation, minimum, and maximum values, among others.\n",
    "     #   Example:\n",
    "import pandas as pd\n",
    "\n",
    "df = pd.read_csv('data.csv')\n",
    "\n",
    "# Get a statistical summary of the DataFrame\n",
    "print(df.describe())\n",
    "\n",
    "    # 3. groupby(): This function is used to group data in a DataFrame based on one or more columns. \n",
    "     #   It can be useful for calculating aggregate statistics for different groups.\n",
    "      #  Example:\n",
    "import pandas as pd\n",
    "\n",
    "df = pd.read_csv('data.csv')\n",
    "\n",
    "# Group the data by the 'category' column and calculate the mean of the 'value' column\n",
    "grouped = df.groupby('category').mean()\n",
    "\n",
    "print(grouped)\n",
    "\n",
    "   #  4. sort_values(): This function is used to sort the rows of a DataFrame based on one or more columns.\n",
    "    # Example:\n",
    "import pandas as pd\n",
    "\n",
    "df = pd.read_csv('data.csv')\n",
    "\n",
    "# Sort the DataFrame by the 'value' column in descending order\n",
    "sorted_df = df.sort_values('value', ascending=False)\n",
    "\n",
    "print(sorted_df)"
   ]
  },
  {
   "cell_type": "markdown",
   "id": "36b2a3ef-bd99-40c8-bd5d-327b607db200",
   "metadata": {},
   "source": [
    "**Q.6> Which of the following is mutable in nature Series, DataFrame, Panel?**"
   ]
  },
  {
   "cell_type": "markdown",
   "id": "6903dbf8-1a59-42d6-8990-84ec4e132fc4",
   "metadata": {},
   "source": [
    "     In Pandas, both Series and DataFrame are mutable in nature, while Panel is considered deprecated \n",
    "     and has been replaced by multi-dimensional arrays, such as numpy.ndarray or xarray.DataArray, \n",
    "     which are also mutable.\n",
    "\n",
    "     In a mutable object, the contents of the object can be modified after it is created. This means \n",
    "     that you can add, remove, or update elements in a Series or DataFrame after they are created."
   ]
  },
  {
   "cell_type": "markdown",
   "id": "232a6aef-beff-4794-8797-2b2be16b4da1",
   "metadata": {},
   "source": [
    "**Q.7> Create a DataFrame using multiple Series. Explain with an example.**"
   ]
  },
  {
   "cell_type": "code",
   "execution_count": 2,
   "id": "425b536d-2468-457b-a01b-9139a390a8af",
   "metadata": {},
   "outputs": [
    {
     "name": "stdout",
     "output_type": "stream",
     "text": [
      "      Name  Age  Gender\n",
      "0    Alice   25  Female\n",
      "1      Bob   30    Male\n",
      "2  Charlie   35    Male\n",
      "3    David   40    Male\n",
      "4    Emily   45  Female\n"
     ]
    }
   ],
   "source": [
    "\n",
    "import pandas as pd\n",
    "\n",
    "# Create a Series for each column of data\n",
    "names = pd.Series(['Alice', 'Bob', 'Charlie', 'David', 'Emily'])\n",
    "ages = pd.Series([25, 30, 35, 40, 45])\n",
    "genders = pd.Series(['Female', 'Male', 'Male', 'Male', 'Female'])\n",
    "\n",
    "# Combine the Series into a DataFrame\n",
    "df = pd.DataFrame({'Name': names, 'Age': ages, 'Gender': genders})\n",
    "\n",
    "# Print the resulting DataFrame\n",
    "print(df)\n"
   ]
  },
  {
   "cell_type": "code",
   "execution_count": null,
   "id": "8a43b080-eae1-469e-ae3f-e96ca0daa76c",
   "metadata": {},
   "outputs": [],
   "source": []
  }
 ],
 "metadata": {
  "kernelspec": {
   "display_name": "Python 3 (ipykernel)",
   "language": "python",
   "name": "python3"
  },
  "language_info": {
   "codemirror_mode": {
    "name": "ipython",
    "version": 3
   },
   "file_extension": ".py",
   "mimetype": "text/x-python",
   "name": "python",
   "nbconvert_exporter": "python",
   "pygments_lexer": "ipython3",
   "version": "3.10.8"
  }
 },
 "nbformat": 4,
 "nbformat_minor": 5
}
