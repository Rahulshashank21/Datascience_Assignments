{
 "cells": [
  {
   "cell_type": "markdown",
   "id": "a920ab1f-8e6d-421a-b563-322b380a900b",
   "metadata": {},
   "source": [
    "**Q1.Which keyword is used to create a function? Create a function to return a list of odd numbers in the range of 1 to 25. Ans> The keyword used to create a function in Python is \"def\". Here's the code to create a function that returns a list of odd numbers in the range of 1 to 25**"
   ]
  },
  {
   "cell_type": "code",
   "execution_count": 1,
   "id": "62c8bd27-47de-422d-855d-bd25c4f91328",
   "metadata": {},
   "outputs": [
    {
     "data": {
      "text/plain": [
       "[1, 3, 5, 7, 9, 11, 13, 15, 17, 19, 21, 23, 25]"
      ]
     },
     "execution_count": 1,
     "metadata": {},
     "output_type": "execute_result"
    }
   ],
   "source": [
    "def odd_numbers():\n",
    "    odd_list = []\n",
    "    for i in range(1, 26):\n",
    "        if i % 2 != 0:\n",
    "            odd_list.append(i)\n",
    "    return odd_list\n",
    "odd_numbers()"
   ]
  },
  {
   "cell_type": "markdown",
   "id": "10f83fde-b1ac-4bf3-b923-eac62d08530d",
   "metadata": {},
   "source": [
    "**Q2.Why *args and **kwargs is used in some functions? Create a function each for *args and **kwargs to demonstrate their use."
   ]
  },
  {
   "cell_type": "markdown",
   "id": "08157be7-3e88-4d02-8f95-82be817e94aa",
   "metadata": {},
   "source": [
    "args and **kwargs are used in functions to allow them to accept a varying number of arguments.\n",
    "*args is used to send a non-keyworded variable length argument list to the function.\n",
    "        It allows you to pass a variable number of arguments to a function, which will be received as a tuple.\n",
    "**kwargs is used to pass keyworded variable length of arguments to a function,\n",
    "        which will be received as a dictionary.\n",
    "Here's an example of how you can use *args and **kwargs in a function:"
   ]
  },
  {
   "cell_type": "code",
   "execution_count": 2,
   "id": "7173f14c-bec1-4eb1-9015-f1637bab79b6",
   "metadata": {},
   "outputs": [],
   "source": [
    "def print_args(*args):\n",
    "    print(\"Arguments passed as *args:\", args)\n",
    "    \n",
    "def print_kwargs(**kwargs):\n",
    "    print(\"Arguments passed as **kwargs:\", kwargs)\n",
    "\n"
   ]
  },
  {
   "cell_type": "markdown",
   "id": "f41451e5-5ee2-4361-9c4a-4a17142cf948",
   "metadata": {},
   "source": [
    "**Q3.What is an iterator in python? Name the method used to initialise the iterator object and the method used for iteration. Use these methods to print the first five elements of the given list [2, 4, 6, 8, 10, 12, 14, 16, 18, 20].**"
   ]
  },
  {
   "cell_type": "markdown",
   "id": "f07490d3-72c0-4a75-b9b7-44eea4ad54d1",
   "metadata": {},
   "source": [
    "An iterator in Python is an object that implements the iterator protocol,\n",
    "          which consists of two methods: __iter__() and __next__(). \n",
    "          The __iter__() method is used to initialize the iterator object, \n",
    "          and the __next__() method is used for iteration."
   ]
  },
  {
   "cell_type": "code",
   "execution_count": 4,
   "id": "3f1a73ae-122f-4a3c-8377-3bf1c2957759",
   "metadata": {},
   "outputs": [
    {
     "name": "stdout",
     "output_type": "stream",
     "text": [
      "The first 5 numbers:\n",
      "2\n",
      "4\n",
      "6\n",
      "8\n",
      "10\n"
     ]
    }
   ],
   "source": [
    "#example\n",
    "numbers = [2, 4, 6, 8, 10, 12, 14, 16, 18, 20]\n",
    "\n",
    "class TopNumbers:\n",
    "    def __init__(self, limit):\n",
    "        self.limit = limit\n",
    "        self.counter = 0\n",
    "\n",
    "    def __iter__(self):\n",
    "        return self\n",
    "\n",
    "    def __next__(self):\n",
    "        if self.counter < self.limit:\n",
    "            number = numbers[self.counter]\n",
    "            self.counter += 1\n",
    "            return number\n",
    "        else:\n",
    "            raise StopIteration\n",
    "\n",
    "print(\"The first 5 numbers:\")\n",
    "for number in TopNumbers(5):\n",
    "    print(number)\n"
   ]
  },
  {
   "cell_type": "markdown",
   "id": "7c7bed11-9d44-4d0c-bda2-7c9638c28e47",
   "metadata": {},
   "source": [
    "**Q4. What is a generator function in python? Why yield keyword is used? \n",
    "          Give an example of a generator function.\n",
    "    Ans> A generator function in Python is a function that returns a generator iterator.\n",
    "         The yield keyword is used to return a value from a generator function and pause the \n",
    "         function's execution. When the generator function is called again, it resumes execution\n",
    "         from where it left off, using the saved state from the last call to yield.**"
   ]
  },
  {
   "cell_type": "code",
   "execution_count": 5,
   "id": "51df282c-3d3f-4dc6-9f90-f472712aa360",
   "metadata": {},
   "outputs": [
    {
     "name": "stdout",
     "output_type": "stream",
     "text": [
      "Fibonacci sequence:\n",
      "0\n",
      "1\n",
      "1\n",
      "2\n",
      "3\n",
      "5\n",
      "8\n",
      "13\n"
     ]
    }
   ],
   "source": [
    "\n",
    "def fibonacci_sequence(limit):\n",
    "    a, b = 0, 1\n",
    "    while a < limit:\n",
    "        yield a\n",
    "        a, b = b, a + b\n",
    "\n",
    "fib = fibonacci_sequence(20)\n",
    "\n",
    "print(\"Fibonacci sequence:\")\n",
    "for number in fib:\n",
    "    print(number)       "
   ]
  },
  {
   "cell_type": "markdown",
   "id": "4db42950-a17e-4886-8471-6bd25b5b1d7c",
   "metadata": {},
   "source": [
    "**Q5. Create a generator function for prime numbers less than 1000.\n",
    "        Use the next() method to print the first 20 prime numbers**"
   ]
  },
  {
   "cell_type": "code",
   "execution_count": 7,
   "id": "05258f3d-4ed5-4a40-86e0-c9d919a390a4",
   "metadata": {},
   "outputs": [
    {
     "name": "stdout",
     "output_type": "stream",
     "text": [
      "The first 20 prime numbers:\n",
      "2\n",
      "3\n",
      "5\n",
      "7\n",
      "11\n",
      "13\n",
      "17\n",
      "19\n",
      "23\n",
      "29\n",
      "31\n",
      "37\n",
      "41\n",
      "43\n",
      "47\n",
      "53\n",
      "59\n",
      "61\n",
      "67\n",
      "71\n"
     ]
    }
   ],
   "source": [
    "\n",
    "def prime_numbers():\n",
    "    yield 2\n",
    "    primes = [2]\n",
    "    candidate = 3\n",
    "    while candidate < 1000:\n",
    "        is_prime = True\n",
    "        for prime in primes:\n",
    "            if candidate % prime == 0:\n",
    "                is_prime = False\n",
    "                break\n",
    "        if is_prime:\n",
    "            primes.append(candidate)\n",
    "            yield candidate\n",
    "        candidate += 2\n",
    "\n",
    "primes = prime_numbers()\n",
    "\n",
    "print(\"The first 20 prime numbers:\")\n",
    "for i in range(20):\n",
    "    print(next(primes))"
   ]
  },
  {
   "cell_type": "code",
   "execution_count": null,
   "id": "352b068b-5d1c-4354-bc19-e9b19c5a7b54",
   "metadata": {},
   "outputs": [],
   "source": []
  }
 ],
 "metadata": {
  "kernelspec": {
   "display_name": "Python 3 (ipykernel)",
   "language": "python",
   "name": "python3"
  },
  "language_info": {
   "codemirror_mode": {
    "name": "ipython",
    "version": 3
   },
   "file_extension": ".py",
   "mimetype": "text/x-python",
   "name": "python",
   "nbconvert_exporter": "python",
   "pygments_lexer": "ipython3",
   "version": "3.10.8"
  }
 },
 "nbformat": 4,
 "nbformat_minor": 5
}
