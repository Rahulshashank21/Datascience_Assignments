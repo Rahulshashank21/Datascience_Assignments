{
 "cells": [
  {
   "cell_type": "markdown",
   "id": "0a1676ee-5f17-4849-8076-e51971827ada",
   "metadata": {},
   "source": [
    "**Q1. What is multiprocessing in python? Why is it useful?**"
   ]
  },
  {
   "cell_type": "markdown",
   "id": "cc5c1063-4834-432a-af1a-b4b3cc1825d3",
   "metadata": {},
   "source": [
    "Multiprocessing in Python is a module that enables the execution of multiple processes simultaneously. It allows the execution of separate processes, each with its own memory space and resources, to perform tasks in parallel. Each process runs independently and can communicate with other processes using inter-process communication (IPC) mechanisms such as pipes, queues, and shared memory.\n",
    "\n",
    "Multiprocessing is useful in situations where there is a need to execute computationally intensive or I/O-bound tasks concurrently. It can significantly improve the performance of certain tasks by utilizing multiple CPU cores and taking advantage of parallel processing capabilities."
   ]
  },
  {
   "cell_type": "markdown",
   "id": "5b9236ee-4ab5-441b-adb6-31059be830b8",
   "metadata": {},
   "source": [
    "**Q2. What are the differences between multiprocessing and multithreading?**"
   ]
  },
  {
   "cell_type": "markdown",
   "id": "da0ae886-b04e-4777-9652-85b04a300ffc",
   "metadata": {},
   "source": [
    "1 Multiprocessing involves the execution of multiple processes, while multithreading involves the execution of multiple threads within a single process.                                                                                                                                                    \n",
    "2.In multiprocessing, each process has its own memory space and resources, while threads share the same memory space and resources of the process.\n",
    "Processes in multiprocessing can run on multiple CPU cores simultaneously, providing true parallelism. Threads, on the other hand, run concurrently within a single CPU core and share its execution time through time-slicing.                                                                                                                                         \n",
    "3.Inter-process communication (IPC) mechanisms like pipes, queues, and shared memory are typically used for communication between processes in multiprocessing. Threads within a process can easily share data using shared memory.                                                                                          \n",
    "4.Multiprocessing is suitable for CPU-bound tasks, where parallel execution can utilize multiple CPU cores effectively. Multithreading is suitable for I/O-bound tasks, where threads can overlap I/O operations and maximize CPU utilization."
   ]
  },
  {
   "cell_type": "markdown",
   "id": "088b24f2-4b99-4207-b880-73eed783aa71",
   "metadata": {},
   "source": [
    "**Q3. Write a python code to create a process using the multiprocessing module.**"
   ]
  },
  {
   "cell_type": "code",
   "execution_count": 2,
   "id": "7ce78294-61ff-46e7-8f40-9892a71c0ba6",
   "metadata": {},
   "outputs": [
    {
     "name": "stdout",
     "output_type": "stream",
     "text": [
      "This is a process.\n"
     ]
    }
   ],
   "source": [
    "import multiprocessing\n",
    "\n",
    "def my_process():\n",
    "    print(\"This is a process.\")\n",
    "\n",
    "if __name__ == '__main__':\n",
    "    process = multiprocessing.Process(target=my_process)\n",
    "    process.start()\n",
    "    process.join()\n"
   ]
  },
  {
   "cell_type": "markdown",
   "id": "8162b627-dd35-40de-adfe-98355d52eb36",
   "metadata": {},
   "source": [
    "**Q4. What is a multiprocessing pool in python? Why is it used?**"
   ]
  },
  {
   "cell_type": "markdown",
   "id": "7748a959-6cb6-4e3d-b038-c00be33a3663",
   "metadata": {},
   "source": [
    "A multiprocessing pool in Python, available in the multiprocessing module, is a convenient way to create a pool of worker processes. The pool manages a group of worker processes, distributing tasks to the workers and collecting the results asynchronously. It abstracts away the details of creating and managing individual processes, making it easier to parallelize tasks."
   ]
  },
  {
   "cell_type": "markdown",
   "id": "00c7c27a-33d8-4171-aea6-03da4cceabe1",
   "metadata": {},
   "source": [
    "**Q5. How can we create a pool of worker processes in python using the multiprocessing module?**"
   ]
  },
  {
   "cell_type": "markdown",
   "id": "bbc3b8c2-b82b-46e2-8e12-fd71f51d3d52",
   "metadata": {},
   "source": [
    "The process_task() function is defined as the task to be executed by the worker processes. Each worker process prints a different number, along with its process name.\n",
    "\n",
    "The pool.map() method is used to distribute the task (process_task()) across the worker processes. The numbers list contains the inputs for the task, and the map() method automatically distributes the elements of the list among the workers."
   ]
  },
  {
   "cell_type": "code",
   "execution_count": 4,
   "id": "76d44543-1868-4653-86e7-6d4e05adc841",
   "metadata": {},
   "outputs": [
    {
     "name": "stdout",
     "output_type": "stream",
     "text": [
      "Process ForkPoolWorker-2 prints: 1Process ForkPoolWorker-4 prints: 3Process ForkPoolWorker-5 prints: 4Process ForkPoolWorker-3 prints: 2\n",
      "\n",
      "\n",
      "\n"
     ]
    }
   ],
   "source": [
    "import multiprocessing\n",
    "\n",
    "def process_task(n):\n",
    "    print(f\"Process {multiprocessing.current_process().name} prints: {n}\")\n",
    "\n",
    "if __name__ == '__main__':\n",
    "    with multiprocessing.Pool(processes=4) as pool:\n",
    "        numbers = [1, 2, 3, 4]\n",
    "        pool.map(process_task, numbers)\n"
   ]
  },
  {
   "cell_type": "markdown",
   "id": "fc1f5edc-48fd-4483-bca3-56f53d6e0d0a",
   "metadata": {},
   "source": [
    "**Q6. Write a python program to create 4 processes, each process should print a different number using the\n",
    "multiprocessing module in python.**"
   ]
  },
  {
   "cell_type": "code",
   "execution_count": 5,
   "id": "cf270265-6fee-4870-b852-112f5ed2df92",
   "metadata": {},
   "outputs": [
    {
     "name": "stdout",
     "output_type": "stream",
     "text": [
      "Process Process-6 prints: 1\n",
      "Process Process-7 prints: 2\n",
      "Process Process-8 prints: 3\n",
      "Process Process-9 prints: 4\n"
     ]
    }
   ],
   "source": [
    "import multiprocessing\n",
    "\n",
    "def print_number(number):\n",
    "    print(f\"Process {multiprocessing.current_process().name} prints: {number}\")\n",
    "\n",
    "if __name__ == '__main__':\n",
    "    processes = []\n",
    "    numbers = [1, 2, 3, 4]\n",
    "\n",
    "    for number in numbers:\n",
    "        process = multiprocessing.Process(target=print_number, args=(number,))\n",
    "        processes.append(process)\n",
    "        process.start()\n",
    "\n",
    "    for process in processes:\n",
    "        process.join()\n"
   ]
  },
  {
   "cell_type": "code",
   "execution_count": null,
   "id": "54ebf2dc-9096-4482-8c7b-46698a4f5a1c",
   "metadata": {},
   "outputs": [],
   "source": []
  }
 ],
 "metadata": {
  "kernelspec": {
   "display_name": "Python 3 (ipykernel)",
   "language": "python",
   "name": "python3"
  },
  "language_info": {
   "codemirror_mode": {
    "name": "ipython",
    "version": 3
   },
   "file_extension": ".py",
   "mimetype": "text/x-python",
   "name": "python",
   "nbconvert_exporter": "python",
   "pygments_lexer": "ipython3",
   "version": "3.10.8"
  }
 },
 "nbformat": 4,
 "nbformat_minor": 5
}
